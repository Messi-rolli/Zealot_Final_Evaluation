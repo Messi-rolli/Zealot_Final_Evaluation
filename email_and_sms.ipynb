{
 "cells": [
  {
   "cell_type": "code",
   "execution_count": null,
   "id": "0931ee62",
   "metadata": {},
   "outputs": [],
   "source": [
    "#pip install secure-smtplib\n",
    "#pip install emailmessage\n",
    "\n",
    "import smtplib\n",
    "from email.message import EmailMessage\n",
    "from twilio.rest import Client\n",
    "def email_alert(subject, body,to):\n",
    "    msg=EmailMessage()\n",
    "    msg.set_content(body)\n",
    "    \n",
    "    msg['subject']=subject\n",
    "    msg['to']=to\n",
    "    \n",
    "    user=\"wave01072024@gmail.com\"\n",
    "    msg['from']=user\n",
    "    password=\"tgdjbqsityxwzuzs\"\n",
    "    \n",
    "    server=smtplib.SMTP(\"smtp.gmail.com\",587)\n",
    "    server.starttls()\n",
    "    server.login(user,password)\n",
    "    server.send_message(msg)\n",
    "    \n",
    "    server.quit()\n",
    "    \n",
    "\n",
    "    \n",
    "def sms(body1,from1,to1):\n",
    "    account_ssid='AC80e64283bc065239314e6e080ee7c2d7'\n",
    "    auth_token='15f2f0a7b3cd46cf1be738d32a1f5814'\n",
    "    client=Client(account_ssid,auth_token)\n",
    "    message=client.messages\\\n",
    "    .create(\n",
    "        body=body1,\n",
    "        from_=from1,\n",
    "        to=to1\n",
    "    )\n",
    "    \n",
    "    \n",
    "if __name__==\"__main__\":\n",
    "    email_alert(\"hey\",\" this message is from mohan\",\"mohanrao0702202@gmail.com\")\n",
    "    sms(' Suspicious activities are detected please contact the driver ','+14152339279','+919380348470')"
   ]
  }
 ],
 "metadata": {
  "kernelspec": {
   "display_name": "Python 3 (ipykernel)",
   "language": "python",
   "name": "python3"
  },
  "language_info": {
   "codemirror_mode": {
    "name": "ipython",
    "version": 3
   },
   "file_extension": ".py",
   "mimetype": "text/x-python",
   "name": "python",
   "nbconvert_exporter": "python",
   "pygments_lexer": "ipython3",
   "version": "3.11.5"
  }
 },
 "nbformat": 4,
 "nbformat_minor": 5
}
