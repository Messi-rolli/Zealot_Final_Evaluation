{
 "cells": [
  {
   "cell_type": "code",
   "execution_count": null,
   "id": "194b1589",
   "metadata": {},
   "outputs": [],
   "source": [
    "import cv2\n",
    "\n",
    "def apply_night_vision(frame):\n",
    "    # Split the frame into its color channels\n",
    "    b, g, r = cv2.split(frame)\n",
    "\n",
    "    # Enhance the green channel\n",
    "    g = cv2.equalizeHist(g)\n",
    "\n",
    "    # Merge back the channels\n",
    "    night_vision_frame = cv2.merge((b, g, r))\n",
    "\n",
    "    return night_vision_frame\n",
    "\n",
    "# Initialize the webcam\n",
    "cap = cv2.VideoCapture(0)\n",
    "\n",
    "if not cap.isOpened():\n",
    "    print(\"Error: Could not open webcam.\")\n",
    "    exit()\n",
    "\n",
    "while True:\n",
    "    # Capture frame-by-frame\n",
    "    ret, frame = cap.read()\n",
    "\n",
    "    if not ret:\n",
    "        print(\"Error: Failed to capture image\")\n",
    "        break\n",
    "\n",
    "    # Apply night vision effect\n",
    "    night_vision_frame = apply_night_vision(frame)\n",
    "\n",
    "    # Display the resulting frame\n",
    "    cv2.imshow('Night Vision', night_vision_frame)\n",
    "\n",
    "    # Break the loop on 'q' key press\n",
    "    if cv2.waitKey(1) & 0xFF == ord('q'):\n",
    "        break\n",
    "\n",
    "# When everything is done, release the capture and close windows\n",
    "cap.release()\n",
    "cv2.destroyAllWindows()\n"
   ]
  }
 ],
 "metadata": {
  "kernelspec": {
   "display_name": "Python 3 (ipykernel)",
   "language": "python",
   "name": "python3"
  },
  "language_info": {
   "codemirror_mode": {
    "name": "ipython",
    "version": 3
   },
   "file_extension": ".py",
   "mimetype": "text/x-python",
   "name": "python",
   "nbconvert_exporter": "python",
   "pygments_lexer": "ipython3",
   "version": "3.11.5"
  }
 },
 "nbformat": 4,
 "nbformat_minor": 5
}
